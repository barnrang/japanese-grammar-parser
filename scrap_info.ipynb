{
 "cells": [
  {
   "cell_type": "code",
   "execution_count": 33,
   "metadata": {},
   "outputs": [],
   "source": [
    "import pandas as pd\n",
    "import httplib2\n",
    "from bs4 import BeautifulSoup, SoupStrainer\n",
    "import re\n",
    "\n",
    "from tqdm import tqdm_notebook as tqdm"
   ]
  },
  {
   "cell_type": "code",
   "execution_count": 2,
   "metadata": {},
   "outputs": [],
   "source": [
    "grammar_list = pd.read_csv('grammars_list.csv')"
   ]
  },
  {
   "cell_type": "code",
   "execution_count": 62,
   "metadata": {},
   "outputs": [],
   "source": [
    "pattern = re.compile(r'（.*）')\n",
    "\n",
    "pattern.findall('案の定（あんのじょう）')[0][1:-1]"
   ]
  },
  {
   "cell_type": "code",
   "execution_count": 43,
   "metadata": {},
   "outputs": [],
   "source": [
    "exclude_paran = lambda x: re.sub(r'（.*）','',x)"
   ]
  },
  {
   "cell_type": "code",
   "execution_count": 107,
   "metadata": {},
   "outputs": [
    {
     "data": {
      "text/html": [
       "<div>\n",
       "<style scoped>\n",
       "    .dataframe tbody tr th:only-of-type {\n",
       "        vertical-align: middle;\n",
       "    }\n",
       "\n",
       "    .dataframe tbody tr th {\n",
       "        vertical-align: top;\n",
       "    }\n",
       "\n",
       "    .dataframe thead th {\n",
       "        text-align: right;\n",
       "    }\n",
       "</style>\n",
       "<table border=\"1\" class=\"dataframe\">\n",
       "  <thead>\n",
       "    <tr style=\"text-align: right;\">\n",
       "      <th></th>\n",
       "      <th>link</th>\n",
       "      <th>description</th>\n",
       "      <th>level</th>\n",
       "    </tr>\n",
       "  </thead>\n",
       "  <tbody>\n",
       "    <tr>\n",
       "      <th>0</th>\n",
       "      <td>https://jlptsensei.com/learn-japanese-grammar/...</td>\n",
       "      <td>敢えて（あえて）</td>\n",
       "      <td>N1</td>\n",
       "    </tr>\n",
       "    <tr>\n",
       "      <th>1</th>\n",
       "      <td>https://jlptsensei.com/learn-japanese-grammar/...</td>\n",
       "      <td>あげく</td>\n",
       "      <td>N2</td>\n",
       "    </tr>\n",
       "    <tr>\n",
       "      <th>2</th>\n",
       "      <td>https://jlptsensei.com/learn-japanese-grammar/...</td>\n",
       "      <td>上げる（あげる）</td>\n",
       "      <td>N3</td>\n",
       "    </tr>\n",
       "    <tr>\n",
       "      <th>3</th>\n",
       "      <td>https://jlptsensei.com/learn-japanese-grammar/...</td>\n",
       "      <td>間（あいだ）</td>\n",
       "      <td>N4</td>\n",
       "    </tr>\n",
       "    <tr>\n",
       "      <th>4</th>\n",
       "      <td>https://jlptsensei.com/learn-japanese-grammar/...</td>\n",
       "      <td>間に（あいだに）</td>\n",
       "      <td>N4</td>\n",
       "    </tr>\n",
       "    <tr>\n",
       "      <th>5</th>\n",
       "      <td>https://jlptsensei.com/learn-japanese-grammar/...</td>\n",
       "      <td>あくまでも</td>\n",
       "      <td>N1</td>\n",
       "    </tr>\n",
       "    <tr>\n",
       "      <th>6</th>\n",
       "      <td>https://jlptsensei.com/learn-japanese-grammar/...</td>\n",
       "      <td>あまり</td>\n",
       "      <td>N3</td>\n",
       "    </tr>\n",
       "    <tr>\n",
       "      <th>7</th>\n",
       "      <td>https://jlptsensei.com/learn-japanese-grammar/...</td>\n",
       "      <td>あまりにも</td>\n",
       "      <td>N3</td>\n",
       "    </tr>\n",
       "    <tr>\n",
       "      <th>8</th>\n",
       "      <td>https://jlptsensei.com/learn-japanese-grammar/...</td>\n",
       "      <td>あまり～ない</td>\n",
       "      <td>N4</td>\n",
       "    </tr>\n",
       "    <tr>\n",
       "      <th>9</th>\n",
       "      <td>https://jlptsensei.com/learn-japanese-grammar/...</td>\n",
       "      <td>案の定（あんのじょう）</td>\n",
       "      <td>N1</td>\n",
       "    </tr>\n",
       "    <tr>\n",
       "      <th>10</th>\n",
       "      <td>https://jlptsensei.com/learn-japanese-grammar/...</td>\n",
       "      <td>あらかじめ</td>\n",
       "      <td>N1</td>\n",
       "    </tr>\n",
       "    <tr>\n",
       "      <th>11</th>\n",
       "      <td>https://jlptsensei.com/learn-japanese-grammar/...</td>\n",
       "      <td>あるいは</td>\n",
       "      <td>N2</td>\n",
       "    </tr>\n",
       "    <tr>\n",
       "      <th>12</th>\n",
       "      <td>https://jlptsensei.com/learn-japanese-grammar/...</td>\n",
       "      <td>後で（あとで）</td>\n",
       "      <td>N4</td>\n",
       "    </tr>\n",
       "    <tr>\n",
       "      <th>13</th>\n",
       "      <td>https://jlptsensei.com/learn-japanese-grammar/...</td>\n",
       "      <td>あっての</td>\n",
       "      <td>N1</td>\n",
       "    </tr>\n",
       "    <tr>\n",
       "      <th>14</th>\n",
       "      <td>https://jlptsensei.com/learn-japanese-grammar/...</td>\n",
       "      <td>合う（あう）</td>\n",
       "      <td>N3</td>\n",
       "    </tr>\n",
       "    <tr>\n",
       "      <th>15</th>\n",
       "      <td>https://jlptsensei.com/learn-japanese-grammar/...</td>\n",
       "      <td>ば</td>\n",
       "      <td>N4</td>\n",
       "    </tr>\n",
       "    <tr>\n",
       "      <th>16</th>\n",
       "      <td>https://jlptsensei.com/learn-japanese-grammar/...</td>\n",
       "      <td>ばいい</td>\n",
       "      <td>N3</td>\n",
       "    </tr>\n",
       "    <tr>\n",
       "      <th>17</th>\n",
       "      <td>https://jlptsensei.com/learn-japanese-grammar/...</td>\n",
       "      <td>ばこそ</td>\n",
       "      <td>N1</td>\n",
       "    </tr>\n",
       "    <tr>\n",
       "      <th>18</th>\n",
       "      <td>https://jlptsensei.com/learn-japanese-grammar/...</td>\n",
       "      <td>ばそれまでだ / たらそれまでだ</td>\n",
       "      <td>N1</td>\n",
       "    </tr>\n",
       "    <tr>\n",
       "      <th>19</th>\n",
       "      <td>https://jlptsensei.com/learn-japanese-grammar/...</td>\n",
       "      <td>ばよかった</td>\n",
       "      <td>N3</td>\n",
       "    </tr>\n",
       "  </tbody>\n",
       "</table>\n",
       "</div>"
      ],
      "text/plain": [
       "                                                 link       description level\n",
       "0   https://jlptsensei.com/learn-japanese-grammar/...          敢えて（あえて）    N1\n",
       "1   https://jlptsensei.com/learn-japanese-grammar/...               あげく    N2\n",
       "2   https://jlptsensei.com/learn-japanese-grammar/...          上げる（あげる）    N3\n",
       "3   https://jlptsensei.com/learn-japanese-grammar/...            間（あいだ）    N4\n",
       "4   https://jlptsensei.com/learn-japanese-grammar/...          間に（あいだに）    N4\n",
       "5   https://jlptsensei.com/learn-japanese-grammar/...             あくまでも    N1\n",
       "6   https://jlptsensei.com/learn-japanese-grammar/...               あまり    N3\n",
       "7   https://jlptsensei.com/learn-japanese-grammar/...             あまりにも    N3\n",
       "8   https://jlptsensei.com/learn-japanese-grammar/...            あまり～ない    N4\n",
       "9   https://jlptsensei.com/learn-japanese-grammar/...       案の定（あんのじょう）    N1\n",
       "10  https://jlptsensei.com/learn-japanese-grammar/...             あらかじめ    N1\n",
       "11  https://jlptsensei.com/learn-japanese-grammar/...              あるいは    N2\n",
       "12  https://jlptsensei.com/learn-japanese-grammar/...           後で（あとで）    N4\n",
       "13  https://jlptsensei.com/learn-japanese-grammar/...              あっての    N1\n",
       "14  https://jlptsensei.com/learn-japanese-grammar/...            合う（あう）    N3\n",
       "15  https://jlptsensei.com/learn-japanese-grammar/...                 ば    N4\n",
       "16  https://jlptsensei.com/learn-japanese-grammar/...               ばいい    N3\n",
       "17  https://jlptsensei.com/learn-japanese-grammar/...               ばこそ    N1\n",
       "18  https://jlptsensei.com/learn-japanese-grammar/...  ばそれまでだ / たらそれまでだ    N1\n",
       "19  https://jlptsensei.com/learn-japanese-grammar/...             ばよかった    N3"
      ]
     },
     "execution_count": 107,
     "metadata": {},
     "output_type": "execute_result"
    }
   ],
   "source": [
    "grammar_list.head(20)"
   ]
  },
  {
   "cell_type": "code",
   "execution_count": 102,
   "metadata": {},
   "outputs": [],
   "source": [
    "idx = 806\n",
    "link = grammar_list.iloc[idx]['link']\n",
    "topic = grammar_list.iloc[idx]['description']"
   ]
  },
  {
   "cell_type": "code",
   "execution_count": 103,
   "metadata": {},
   "outputs": [],
   "source": [
    "pattern = re.compile(r'（.*）')\n",
    "hira_list = pattern.findall(topic)\n",
    "hira_topic = None\n",
    "if len(hira_list) > 0:\n",
    "    hira_topic = hira_list[0][1:-1]"
   ]
  },
  {
   "cell_type": "code",
   "execution_count": 104,
   "metadata": {},
   "outputs": [
    {
     "data": {
      "text/plain": [
       "'ずにすむ'"
      ]
     },
     "execution_count": 104,
     "metadata": {},
     "output_type": "execute_result"
    }
   ],
   "source": [
    "hira_topic"
   ]
  },
  {
   "cell_type": "code",
   "execution_count": 5,
   "metadata": {},
   "outputs": [
    {
     "data": {
      "text/plain": [
       "'https://jlptsensei.com/learn-japanese-grammar/%e9%96%93%e3%81%ab-aida-ni-meaning/'"
      ]
     },
     "execution_count": 5,
     "metadata": {},
     "output_type": "execute_result"
    }
   ],
   "source": [
    "link"
   ]
  },
  {
   "cell_type": "code",
   "execution_count": 21,
   "metadata": {},
   "outputs": [],
   "source": [
    "http = httplib2.Http()"
   ]
  },
  {
   "cell_type": "code",
   "execution_count": 87,
   "metadata": {},
   "outputs": [],
   "source": [
    "_, response = http.request(link)\n",
    "\n",
    "soup = BeautifulSoup(response)"
   ]
  },
  {
   "cell_type": "code",
   "execution_count": 54,
   "metadata": {},
   "outputs": [],
   "source": [
    "usage_table = soup.find('table',{'class':'usage'})"
   ]
  },
  {
   "cell_type": "code",
   "execution_count": 58,
   "metadata": {},
   "outputs": [
    {
     "data": {
      "text/plain": [
       "'3'"
      ]
     },
     "execution_count": 58,
     "metadata": {},
     "output_type": "execute_result"
    }
   ],
   "source": [
    "usage_table.find_all('td')[0]"
   ]
  },
  {
   "cell_type": "code",
   "execution_count": 95,
   "metadata": {},
   "outputs": [],
   "source": [
    "def get_usage_num_column(soup, topic):\n",
    "    pattern = re.compile(r'（.*）')\n",
    "    hira_list = pattern.findall(topic)\n",
    "    hira_topic = None\n",
    "    if len(hira_list) > 0:\n",
    "        hira_topic = hira_list[0][1:-1]\n",
    "    \n",
    "    usage_table = soup.find('table',{'class':'usage'})\n",
    "    max_column = 0\n",
    "    position_id = -1\n",
    "    for tr in usage_table.find_all('tr'):\n",
    "        max_column = max(len(tr.find_all('td')), max_column)\n",
    "        for idx, td in enumerate(tr.find_all('td')):\n",
    "#             print(td.text)\n",
    "            if td.get('rowspan') is not None:\n",
    "                position_id = idx\n",
    "                break\n",
    "            if td.text is not None:\n",
    "                if exclude_paran(topic) in exclude_paran(td.text):\n",
    "                    position_id = idx\n",
    "                    break\n",
    "                if hira_topic is not None:        \n",
    "                    if hira_topic in exclude_paran(td.text):\n",
    "                        position_id = idx\n",
    "                        break\n",
    "        \n",
    "    \n",
    "    return {\n",
    "        'num_col': max_column,\n",
    "        'pos_idx': position_id\n",
    "    }\n",
    "    "
   ]
  },
  {
   "cell_type": "code",
   "execution_count": 96,
   "metadata": {},
   "outputs": [
    {
     "data": {
      "text/plain": [
       "{'num_col': 2, 'pos_idx': 1}"
      ]
     },
     "execution_count": 96,
     "metadata": {},
     "output_type": "execute_result"
    }
   ],
   "source": [
    "get_usage_num_column(soup, topic)"
   ]
  },
  {
   "cell_type": "code",
   "execution_count": 112,
   "metadata": {},
   "outputs": [
    {
     "data": {
      "text/html": [
       "<div>\n",
       "<style scoped>\n",
       "    .dataframe tbody tr th:only-of-type {\n",
       "        vertical-align: middle;\n",
       "    }\n",
       "\n",
       "    .dataframe tbody tr th {\n",
       "        vertical-align: top;\n",
       "    }\n",
       "\n",
       "    .dataframe thead th {\n",
       "        text-align: right;\n",
       "    }\n",
       "</style>\n",
       "<table border=\"1\" class=\"dataframe\">\n",
       "  <thead>\n",
       "    <tr style=\"text-align: right;\">\n",
       "      <th></th>\n",
       "      <th>link</th>\n",
       "      <th>description</th>\n",
       "      <th>level</th>\n",
       "    </tr>\n",
       "  </thead>\n",
       "  <tbody>\n",
       "    <tr>\n",
       "      <th>15</th>\n",
       "      <td>https://jlptsensei.com/learn-japanese-grammar/...</td>\n",
       "      <td>ば</td>\n",
       "      <td>N4</td>\n",
       "    </tr>\n",
       "    <tr>\n",
       "      <th>16</th>\n",
       "      <td>https://jlptsensei.com/learn-japanese-grammar/...</td>\n",
       "      <td>ばいい</td>\n",
       "      <td>N3</td>\n",
       "    </tr>\n",
       "    <tr>\n",
       "      <th>18</th>\n",
       "      <td>https://jlptsensei.com/learn-japanese-grammar/...</td>\n",
       "      <td>ばそれまでだ / たらそれまでだ</td>\n",
       "      <td>N1</td>\n",
       "    </tr>\n",
       "    <tr>\n",
       "      <th>19</th>\n",
       "      <td>https://jlptsensei.com/learn-japanese-grammar/...</td>\n",
       "      <td>ばよかった</td>\n",
       "      <td>N3</td>\n",
       "    </tr>\n",
       "    <tr>\n",
       "      <th>20</th>\n",
       "      <td>https://jlptsensei.com/learn-japanese-grammar/...</td>\n",
       "      <td>ば～ほど</td>\n",
       "      <td>N3</td>\n",
       "    </tr>\n",
       "    <tr>\n",
       "      <th>30</th>\n",
       "      <td>https://jlptsensei.com/learn-japanese-grammar/...</td>\n",
       "      <td>べからず / べからざる</td>\n",
       "      <td>N1</td>\n",
       "    </tr>\n",
       "    <tr>\n",
       "      <th>38</th>\n",
       "      <td>https://jlptsensei.com/learn-japanese-grammar/...</td>\n",
       "      <td>ぶりに</td>\n",
       "      <td>N3</td>\n",
       "    </tr>\n",
       "    <tr>\n",
       "      <th>39</th>\n",
       "      <td>https://jlptsensei.com/learn-japanese-grammar/...</td>\n",
       "      <td>ちゃいけない・じゃいけない</td>\n",
       "      <td>N5</td>\n",
       "    </tr>\n",
       "    <tr>\n",
       "      <th>41</th>\n",
       "      <td>https://jlptsensei.com/learn-japanese-grammar/...</td>\n",
       "      <td>ちっとも～ない</td>\n",
       "      <td>N2</td>\n",
       "    </tr>\n",
       "    <tr>\n",
       "      <th>43</th>\n",
       "      <td>https://jlptsensei.com/learn-japanese-grammar/...</td>\n",
       "      <td>だ・です</td>\n",
       "      <td>N5</td>\n",
       "    </tr>\n",
       "    <tr>\n",
       "      <th>62</th>\n",
       "      <td>https://jlptsensei.com/learn-japanese-grammar/...</td>\n",
       "      <td>であれ / であろうと</td>\n",
       "      <td>N1</td>\n",
       "    </tr>\n",
       "    <tr>\n",
       "      <th>63</th>\n",
       "      <td>https://jlptsensei.com/learn-japanese-grammar/...</td>\n",
       "      <td>であれ～であれ</td>\n",
       "      <td>N1</td>\n",
       "    </tr>\n",
       "    <tr>\n",
       "      <th>67</th>\n",
       "      <td>https://jlptsensei.com/learn-japanese-grammar/...</td>\n",
       "      <td>でも</td>\n",
       "      <td>N5</td>\n",
       "    </tr>\n",
       "    <tr>\n",
       "      <th>83</th>\n",
       "      <td>https://jlptsensei.com/learn-japanese-grammar/...</td>\n",
       "      <td>どうして</td>\n",
       "      <td>N5</td>\n",
       "    </tr>\n",
       "    <tr>\n",
       "      <th>85</th>\n",
       "      <td>https://jlptsensei.com/learn-japanese-grammar/...</td>\n",
       "      <td>どうやって</td>\n",
       "      <td>N5</td>\n",
       "    </tr>\n",
       "    <tr>\n",
       "      <th>100</th>\n",
       "      <td>https://jlptsensei.com/learn-japanese-grammar/...</td>\n",
       "      <td>が/も～なら、～も～だ</td>\n",
       "      <td>N1</td>\n",
       "    </tr>\n",
       "    <tr>\n",
       "      <th>127</th>\n",
       "      <td>https://jlptsensei.com/learn-japanese-grammar/...</td>\n",
       "      <td>い-adjectives</td>\n",
       "      <td>N5</td>\n",
       "    </tr>\n",
       "    <tr>\n",
       "      <th>134</th>\n",
       "      <td>https://jlptsensei.com/learn-japanese-grammar/...</td>\n",
       "      <td>いかんだ / いかんでは / いかんによっては</td>\n",
       "      <td>N1</td>\n",
       "    </tr>\n",
       "    <tr>\n",
       "      <th>135</th>\n",
       "      <td>https://jlptsensei.com/learn-japanese-grammar/...</td>\n",
       "      <td>いかんにかかわらず / いかんによらず / いかんをとわず</td>\n",
       "      <td>N1</td>\n",
       "    </tr>\n",
       "    <tr>\n",
       "      <th>141</th>\n",
       "      <td>https://jlptsensei.com/learn-japanese-grammar/...</td>\n",
       "      <td>意向形 （いこうけい）</td>\n",
       "      <td>N4</td>\n",
       "    </tr>\n",
       "  </tbody>\n",
       "</table>\n",
       "</div>"
      ],
      "text/plain": [
       "                                                  link  \\\n",
       "15   https://jlptsensei.com/learn-japanese-grammar/...   \n",
       "16   https://jlptsensei.com/learn-japanese-grammar/...   \n",
       "18   https://jlptsensei.com/learn-japanese-grammar/...   \n",
       "19   https://jlptsensei.com/learn-japanese-grammar/...   \n",
       "20   https://jlptsensei.com/learn-japanese-grammar/...   \n",
       "30   https://jlptsensei.com/learn-japanese-grammar/...   \n",
       "38   https://jlptsensei.com/learn-japanese-grammar/...   \n",
       "39   https://jlptsensei.com/learn-japanese-grammar/...   \n",
       "41   https://jlptsensei.com/learn-japanese-grammar/...   \n",
       "43   https://jlptsensei.com/learn-japanese-grammar/...   \n",
       "62   https://jlptsensei.com/learn-japanese-grammar/...   \n",
       "63   https://jlptsensei.com/learn-japanese-grammar/...   \n",
       "67   https://jlptsensei.com/learn-japanese-grammar/...   \n",
       "83   https://jlptsensei.com/learn-japanese-grammar/...   \n",
       "85   https://jlptsensei.com/learn-japanese-grammar/...   \n",
       "100  https://jlptsensei.com/learn-japanese-grammar/...   \n",
       "127  https://jlptsensei.com/learn-japanese-grammar/...   \n",
       "134  https://jlptsensei.com/learn-japanese-grammar/...   \n",
       "135  https://jlptsensei.com/learn-japanese-grammar/...   \n",
       "141  https://jlptsensei.com/learn-japanese-grammar/...   \n",
       "\n",
       "                       description level  \n",
       "15                               ば    N4  \n",
       "16                             ばいい    N3  \n",
       "18                ばそれまでだ / たらそれまでだ    N1  \n",
       "19                           ばよかった    N3  \n",
       "20                            ば～ほど    N3  \n",
       "30                    べからず / べからざる    N1  \n",
       "38                             ぶりに    N3  \n",
       "39                   ちゃいけない・じゃいけない    N5  \n",
       "41                         ちっとも～ない    N2  \n",
       "43                            だ・です    N5  \n",
       "62                     であれ / であろうと    N1  \n",
       "63                         であれ～であれ    N1  \n",
       "67                             でも     N5  \n",
       "83                            どうして    N5  \n",
       "85                           どうやって    N5  \n",
       "100                    が/も～なら、～も～だ    N1  \n",
       "127                   い-adjectives    N5  \n",
       "134        いかんだ / いかんでは / いかんによっては    N1  \n",
       "135  いかんにかかわらず / いかんによらず / いかんをとわず    N1  \n",
       "141                    意向形 （いこうけい）    N4  "
      ]
     },
     "execution_count": 112,
     "metadata": {},
     "output_type": "execute_result"
    }
   ],
   "source": [
    "grammar_list[pd.DataFrame(datas)['pos_idx']==-1].head(20)"
   ]
  },
  {
   "cell_type": "code",
   "execution_count": 99,
   "metadata": {},
   "outputs": [
    {
     "name": "stderr",
     "output_type": "stream",
     "text": [
      "<ipython-input-99-d1a747fc6418>:2: TqdmDeprecationWarning: This function will be removed in tqdm==5.0.0\n",
      "Please use `tqdm.notebook.tqdm` instead of `tqdm.tqdm_notebook`\n",
      "  for i in tqdm(range(len(grammar_list))):\n"
     ]
    },
    {
     "data": {
      "application/vnd.jupyter.widget-view+json": {
       "model_id": "66b80d6f5e6d45e382432b953ff978a2",
       "version_major": 2,
       "version_minor": 0
      },
      "text/plain": [
       "HBox(children=(FloatProgress(value=0.0, max=814.0), HTML(value='')))"
      ]
     },
     "metadata": {},
     "output_type": "display_data"
    },
    {
     "name": "stdout",
     "output_type": "stream",
     "text": [
      "\n"
     ]
    }
   ],
   "source": [
    "# datas = []\n",
    "for i in tqdm(range(len(grammar_list))):\n",
    "    if datas[i]['pos_idx'] != -1: continue\n",
    "    link = grammar_list.iloc[i]['link']\n",
    "    topic = grammar_list.iloc[i]['description']\n",
    "    \n",
    "    _, response = http.request(link)\n",
    "    soup = BeautifulSoup(response)\n",
    "    \n",
    "    dat = get_usage_num_column(soup, topic)\n",
    "    datas[i] = dat"
   ]
  },
  {
   "cell_type": "code",
   "execution_count": 28,
   "metadata": {},
   "outputs": [
    {
     "data": {
      "text/plain": [
       "{'num_col': 3, 'pos_idx': 1}"
      ]
     },
     "execution_count": 28,
     "metadata": {},
     "output_type": "execute_result"
    }
   ],
   "source": [
    "get_usage_num_column(soup, topic)"
   ]
  },
  {
   "cell_type": "code",
   "execution_count": 10,
   "metadata": {},
   "outputs": [
    {
     "data": {
      "text/plain": [
       "[<td>Verb (casual, non-past)</td>,\n",
       " <td rowspan=\"4\">間に</td>,\n",
       " <td>Noun + の</td>,\n",
       " <td>い-adjective + い</td>,\n",
       " <td>な-adjective + な</td>]"
      ]
     },
     "execution_count": 10,
     "metadata": {},
     "output_type": "execute_result"
    }
   ],
   "source": [
    "usage_table.find_all('td')"
   ]
  },
  {
   "cell_type": "code",
   "execution_count": 20,
   "metadata": {},
   "outputs": [],
   "source": [
    "a = 'asd '"
   ]
  },
  {
   "cell_type": "code",
   "execution_count": 21,
   "metadata": {},
   "outputs": [
    {
     "data": {
      "text/plain": [
       "'asd'"
      ]
     },
     "execution_count": 21,
     "metadata": {},
     "output_type": "execute_result"
    }
   ],
   "source": [
    "a.strip()"
   ]
  },
  {
   "cell_type": "code",
   "execution_count": 18,
   "metadata": {},
   "outputs": [],
   "source": [
    "def convert_to_formula(st: str):\n",
    "    convert_dict = {\n",
    "        'Noun': '<N>',\n",
    "        'い-adjective': '<i-adj>',\n",
    "        'な-adjective': '<na-adj>'\n",
    "    }\n",
    "    tokens = [x.strip() for x in trimst.split('+')]\n",
    "    for \n",
    "    print(tokens)"
   ]
  },
  {
   "cell_type": "code",
   "execution_count": 19,
   "metadata": {},
   "outputs": [
    {
     "name": "stdout",
     "output_type": "stream",
     "text": [
      "['<td>Noun ', ' の</td>']\n"
     ]
    }
   ],
   "source": [
    "convert_to_formula('<td>Noun + の</td>')"
   ]
  },
  {
   "cell_type": "code",
   "execution_count": null,
   "metadata": {},
   "outputs": [],
   "source": []
  }
 ],
 "metadata": {
  "kernelspec": {
   "display_name": "Python 3",
   "language": "python",
   "name": "python3"
  },
  "language_info": {
   "codemirror_mode": {
    "name": "ipython",
    "version": 3
   },
   "file_extension": ".py",
   "mimetype": "text/x-python",
   "name": "python",
   "nbconvert_exporter": "python",
   "pygments_lexer": "ipython3",
   "version": "3.8.3"
  }
 },
 "nbformat": 4,
 "nbformat_minor": 4
}
